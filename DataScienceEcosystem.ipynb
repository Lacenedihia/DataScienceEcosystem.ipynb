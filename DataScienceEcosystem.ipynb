{
  "cells": [
    {
      "cell_type": "markdown",
      "metadata": {
        "id": "NT-7sJIBCb_Q"
      },
      "source": [
        "<center>\n",
        "    <img src=\"https://cf-courses-data.s3.us.cloud-object-storage.appdomain.cloud/IBMDeveloperSkillsNetwork-DS0105EN-SkillsNetwork/labs/Module2/images/SN_web_lightmode.png\" width=\"300\" alt=\"cognitiveclass.ai logo\">\n",
        "</center>\n"
      ]
    },
    {
      "cell_type": "markdown",
      "metadata": {
        "id": "uTy__VrMCb_S"
      },
      "source": [
        "#### Add your code below following the instructions given in the course\n"
      ]
    },
    {
      "cell_type": "markdown",
      "source": [
        "# Data Science Tools and Ecosystem"
      ],
      "metadata": {
        "id": "BIm4FiVGCgXU"
      }
    },
    {
      "cell_type": "markdown",
      "source": [
        "In this notebook, Data Science Tools and Ecosystem are summarized."
      ],
      "metadata": {
        "id": "-sjmCrApC_JM"
      }
    },
    {
      "cell_type": "markdown",
      "source": [
        "**Objectives**:\n",
        "\n",
        "\n",
        "*   Create a Jupyter Notebook\n",
        "\n",
        "*   Insert code and markdown cells\n",
        "*   List popular languages for Data Science\n",
        "\n",
        "*   Share your notebook through GitHub\n",
        "\n"
      ],
      "metadata": {
        "id": "tj2hxvA4Iifz"
      }
    },
    {
      "cell_type": "markdown",
      "source": [
        "Some of the popular languages that Data Scientists use are:\n",
        "\n",
        "\n",
        "1.   Python\n",
        "2.   R\n",
        "3.   SQL\n",
        "\n",
        "\n",
        "\n",
        "\n"
      ],
      "metadata": {
        "id": "ga_vFm6sDMKs"
      }
    },
    {
      "cell_type": "markdown",
      "source": [
        "Some of the commonly used libraries used by Data Scientists include:\n",
        "\n",
        "\n",
        "1. Scientific Computing Libraries in Python: Pandas, NumPy\n",
        "2. Visualization Libraries in Python: Matplotlib , Seaborn\n",
        "3. High-Level Machine Learning and Deep Learning Libraries:\n",
        "Scikit-learn,  Keras\n",
        "4. Deep Learning Libraries in Python: TensorFlow, Pytorch\n",
        "5. Libraries used in other languages:\n",
        "    - Apache Spark: A general-purpose cluster-computing framework for processing data using compute clusters.\n",
        "    - R: Has built-in functionality for machine learning and data visualization, with complementary libraries such as ggplot2.\n",
        "\n"
      ],
      "metadata": {
        "id": "smTWfAHYDuOc"
      }
    },
    {
      "cell_type": "markdown",
      "source": [
        "| Data Science Tools |\n",
        "| ---  |\n",
        "| Seldon  |\n",
        "|MLeap|\n",
        "|TenfsorFlow.js|\n"
      ],
      "metadata": {
        "id": "hZVh8oxeEhgs"
      }
    },
    {
      "cell_type": "markdown",
      "source": [
        "###Below are a few examples of evaluating arithmetic expressions in Python"
      ],
      "metadata": {
        "id": "jRcT_L4hGsD8"
      }
    },
    {
      "cell_type": "code",
      "source": [
        "#This a simple arithmetic expression to mutiply then add integers\n",
        "print((3*4)+5)\n"
      ],
      "metadata": {
        "colab": {
          "base_uri": "https://localhost:8080/"
        },
        "id": "suN0DpWSHC2D",
        "outputId": "3e714d84-a1a3-41b3-9fb7-87597a9d37a3"
      },
      "execution_count": 2,
      "outputs": [
        {
          "output_type": "stream",
          "name": "stdout",
          "text": [
            "17\n"
          ]
        }
      ]
    },
    {
      "cell_type": "code",
      "source": [
        "#This will convert 200 minutes to hours by diving by 60\n",
        "print(200/60 ,'Hours')"
      ],
      "metadata": {
        "colab": {
          "base_uri": "https://localhost:8080/"
        },
        "id": "bQ2nhzkVH0l0",
        "outputId": "01d4dd18-11f5-43af-8edf-ba29d9b753c7"
      },
      "execution_count": 9,
      "outputs": [
        {
          "output_type": "stream",
          "name": "stdout",
          "text": [
            "3.3333333333333335 Hours\n"
          ]
        }
      ]
    },
    {
      "cell_type": "markdown",
      "source": [
        "##Author\n",
        "LACENE Dihia"
      ],
      "metadata": {
        "id": "RCuUqUpoJjZd"
      }
    }
  ],
  "metadata": {
    "kernelspec": {
      "display_name": "Python",
      "language": "python",
      "name": "conda-env-python-py"
    },
    "language_info": {
      "name": ""
    },
    "colab": {
      "provenance": [],
      "gpuType": "T4"
    },
    "accelerator": "GPU"
  },
  "nbformat": 4,
  "nbformat_minor": 0
}